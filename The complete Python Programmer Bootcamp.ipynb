{
 "cells": [
  {
   "cell_type": "code",
   "execution_count": 1,
   "metadata": {},
   "outputs": [],
   "source": [
    "import matplotlib.pyplot as plt"
   ]
  },
  {
   "cell_type": "code",
   "execution_count": 2,
   "metadata": {},
   "outputs": [
    {
     "name": "stdout",
     "output_type": "stream",
     "text": [
      "1.-come\n",
      "please\n",
      "2.- please\n",
      "\tgetout\n",
      "3.-one two three "
     ]
    }
   ],
   "source": [
    "print('1.-come\\nplease')\n",
    "print('2.- please\\n\\tgetout')\n",
    "print('3.-one',end=' ')\n",
    "print('two',end=' ')\n",
    "print('three',end=' ')"
   ]
  },
  {
   "cell_type": "code",
   "execution_count": 3,
   "metadata": {},
   "outputs": [],
   "source": [
    "phrase_1 = 'hello world'\n",
    "phrase_2 = 'its me'\n",
    "phrase_3 = phrase_1 + ' , ' + phrase_2"
   ]
  },
  {
   "cell_type": "code",
   "execution_count": 4,
   "metadata": {},
   "outputs": [
    {
     "name": "stdout",
     "output_type": "stream",
     "text": [
      "hello world , its meGrevall\n"
     ]
    },
    {
     "data": {
      "text/plain": [
       "'Grevall'"
      ]
     },
     "execution_count": 4,
     "metadata": {},
     "output_type": "execute_result"
    }
   ],
   "source": [
    "input(phrase_3)\n"
   ]
  },
  {
   "cell_type": "code",
   "execution_count": 5,
   "metadata": {},
   "outputs": [
    {
     "name": "stdout",
     "output_type": "stream",
     "text": [
      "please enter the circule radius:5\n",
      "You entered 5.0 the area of circle is 78.53975\n"
     ]
    }
   ],
   "source": [
    "#first problm\n",
    "radius = float(input('please enter the circule radius:'))\n",
    "pi = 3.14159\n",
    "area = pi * radius**2\n",
    "print('You entered', radius, 'the area of circle is',area)"
   ]
  },
  {
   "cell_type": "code",
   "execution_count": 6,
   "metadata": {},
   "outputs": [
    {
     "name": "stdout",
     "output_type": "stream",
     "text": [
      "please enter the temperature in Fahrenheit:35\n",
      "35.0 fahrenheit in celsius is 1.6666666666666667\n"
     ]
    }
   ],
   "source": [
    "#second problem\n",
    "#convert fahrenheit to celsius\n",
    "far = float(input('please enter the temperature in Fahrenheit:'))\n",
    "cel = (far - 32) * 5/9\n",
    "print(far,'fahrenheit in celsius is', cel)"
   ]
  },
  {
   "cell_type": "code",
   "execution_count": 7,
   "metadata": {},
   "outputs": [
    {
     "name": "stdout",
     "output_type": "stream",
     "text": [
      "Please enter the first number:7\n",
      "please enter the second number:9\n",
      "the product of 7 and 9 is 63\n"
     ]
    }
   ],
   "source": [
    "# third problem\n",
    "# Obtain the product of two integers\n",
    "num_1 = int(input('Please enter the first number:'))\n",
    "num_2 = int(input('please enter the second number:'))\n",
    "product = num_1 * num_2\n",
    "print('the product of',num_1,'and',num_2,'is',product)"
   ]
  },
  {
   "cell_type": "code",
   "execution_count": 8,
   "metadata": {},
   "outputs": [
    {
     "name": "stdout",
     "output_type": "stream",
     "text": [
      "x =  33 y =  26\n",
      "checking less than '<': False\n",
      "checking greater than '>': True\n",
      "False\n",
      "True\n",
      "False\n"
     ]
    }
   ],
   "source": [
    "#conditions\n",
    "# Boolean Expressions\n",
    "x = 33\n",
    "y = 26\n",
    "print('x = ',x,'y = ', y)\n",
    "print('checking less than \\'<\\':',x<y)\n",
    "print('checking greater than \\'>\\':',x>y)\n",
    "print(x<y)\n",
    "print(x>y)\n",
    "print(x==y)"
   ]
  },
  {
   "cell_type": "code",
   "execution_count": 9,
   "metadata": {},
   "outputs": [
    {
     "name": "stdout",
     "output_type": "stream",
     "text": [
      "True\n",
      "checking not equal False\n",
      "les than True\n",
      "greater than True\n"
     ]
    }
   ],
   "source": [
    "var_1 = 7\n",
    "var_2 = 7\n",
    "print(var_1 == var_2)\n",
    "print('checking not equal',var_1!=var_2)\n",
    "print('les than',var_1<=var_2)\n",
    "print('greater than',var_1>=var_2)"
   ]
  },
  {
   "cell_type": "code",
   "execution_count": 10,
   "metadata": {},
   "outputs": [
    {
     "name": "stdout",
     "output_type": "stream",
     "text": [
      "15 20 25\n",
      "True\n",
      "False\n",
      "True\n",
      "False\n",
      "True\n",
      "False\n"
     ]
    }
   ],
   "source": [
    "#Logical Operations\n",
    "var_3,var_4,var_5 = 15,20,25\n",
    "print(var_3,var_4,var_5)\n",
    "print((var_4 and var_5) < 100)\n",
    "print((var_3 and var_4) > 25)\n",
    "print((var_3 or var_4) < 25)\n",
    "print(not True)\n",
    "print(not False)\n",
    "print(not(var_4 and var_5) < 100)"
   ]
  },
  {
   "cell_type": "code",
   "execution_count": 11,
   "metadata": {},
   "outputs": [
    {
     "name": "stdout",
     "output_type": "stream",
     "text": [
      "Es Mayor a 20\n"
     ]
    },
    {
     "data": {
      "text/plain": [
       "25"
      ]
     },
     "execution_count": 11,
     "metadata": {},
     "output_type": "execute_result"
    }
   ],
   "source": [
    "# if statemnet\n",
    "if var_5 >= 20:\n",
    "    print('Es Mayor a 20')\n",
    "else:\n",
    "    print('No es Mayor a 20')    \n",
    "type(var_5)\n",
    "var_5\n"
   ]
  },
  {
   "cell_type": "code",
   "execution_count": 12,
   "metadata": {},
   "outputs": [
    {
     "name": "stdout",
     "output_type": "stream",
     "text": [
      "please enter the value25\n",
      "Es Mayor a 20\n"
     ]
    },
    {
     "data": {
      "text/plain": [
       "25.0"
      ]
     },
     "execution_count": 12,
     "metadata": {},
     "output_type": "execute_result"
    }
   ],
   "source": [
    "value = float(input('please enter the value'))\n",
    "if value >= 20:\n",
    "    print('Es Mayor a 20')\n",
    "else:\n",
    "    print('No es Mayor a 20')    \n",
    "type(value)\n",
    "value"
   ]
  },
  {
   "cell_type": "code",
   "execution_count": 13,
   "metadata": {},
   "outputs": [
    {
     "data": {
      "text/plain": [
       "'python'"
      ]
     },
     "execution_count": 13,
     "metadata": {},
     "output_type": "execute_result"
    }
   ],
   "source": [
    "# A little more on strings\n",
    "\n",
    "my_string = 'Python'\n",
    "len(my_string)\n",
    "my_string[0] # the first \n",
    "my_string[1] # the second\n",
    "my_string[0:2] # since first to second\n",
    "my_string[-1] # the last\n",
    "my_string[-2]\n",
    "my_string[-6:-1]\n",
    "my_string.upper() #ALL\n",
    "my_string.lower() #all"
   ]
  },
  {
   "cell_type": "code",
   "execution_count": 14,
   "metadata": {},
   "outputs": [
    {
     "name": "stdout",
     "output_type": "stream",
     "text": [
      "enter the season:summer\n",
      "Yes, it's summer\n"
     ]
    }
   ],
   "source": [
    "word = 'summer'\n",
    "guess = input('enter the season:')\n",
    "guess = guess.lower()\n",
    "\n",
    "if guess == 'summer':\n",
    "    print('Yes, it\\'s summer')\n",
    "elif guess == 'winter':\n",
    "    print('Yes, it\\'s winter')    \n",
    "elif guess == 'autumn' :\n",
    "    print('Yes, it\\'s autumn')\n",
    "elif guess == 'spring':\n",
    "    print('Yes, it\\'s spring') \n",
    "else:\n",
    "    print(guess.capitalize(),'is not a season') "
   ]
  },
  {
   "cell_type": "code",
   "execution_count": 15,
   "metadata": {},
   "outputs": [
    {
     "name": "stdout",
     "output_type": "stream",
     "text": [
      "PLease enter a number between 1 and 5:3\n",
      "Three\n"
     ]
    }
   ],
   "source": [
    "user_input = int(input('PLease enter a number between 1 and 5:'))   \n",
    "if user_input == 1:\n",
    "    print('One')\n",
    "elif user_input == 2:\n",
    "    print('Two')\n",
    "elif user_input == 3:\n",
    "    print('Three')  \n",
    "elif user_input == 4:\n",
    "    print('Four')   \n",
    "elif user_input == 5:\n",
    "    print('Five')   \n",
    "else:\n",
    "    print(user_input,'is not between 1 and 5')    "
   ]
  },
  {
   "cell_type": "code",
   "execution_count": 16,
   "metadata": {},
   "outputs": [
    {
     "name": "stdout",
     "output_type": "stream",
     "text": [
      "Please enter a string'number between 1 and 5:4\n",
      "Out of range\n"
     ]
    }
   ],
   "source": [
    "# second exercise\n",
    "\n",
    "user_input2 = input('Please enter a string\\'number between 1 and 5:')\n",
    "user_input2 = user_input2.lower() \n",
    "if user_input2 == 'one':\n",
    "   print(1) \n",
    "elif user_input2 == 'two':\n",
    "   print(2)\n",
    "elif user_input2 == 'three':\n",
    "   print(3)\n",
    "elif user_input2 == 'four':\n",
    "   print(4)\n",
    "elif user_input2 == 'five':\n",
    "   print(5)\n",
    "else:\n",
    "    print('Out of range')"
   ]
  },
  {
   "cell_type": "code",
   "execution_count": 17,
   "metadata": {},
   "outputs": [
    {
     "name": "stdout",
     "output_type": "stream",
     "text": [
      "guess the number between 1 and 10:7\n",
      "It's Correct!\n"
     ]
    }
   ],
   "source": [
    " # third exercise\n",
    " \n",
    " secret_number = 7\n",
    " guess = input('guess the number between 1 and 10:')\n",
    " if guess.isdigit():\n",
    "    guess = int(guess)\n",
    "    if guess == secret_number:\n",
    "        print('It\\'s Correct!')\n",
    "    elif guess > secret_number and guess <= 10:\n",
    "         print('It\\'s to high')\n",
    "    elif guess < secret_number and guess >= 1:\n",
    "         print('It\\'s to low')\n",
    "    else:\n",
    "         print('the number in the input is > 10')\n",
    " else:\n",
    "     print('That\\'s not a interger')"
   ]
  },
  {
   "cell_type": "code",
   "execution_count": 18,
   "metadata": {},
   "outputs": [
    {
     "name": "stdout",
     "output_type": "stream",
     "text": [
      "Please insert your name:Grevall\n",
      "Your name contains 7 characters\n"
     ]
    }
   ],
   "source": [
    " #other exercise\n",
    " \n",
    " name = input('Please insert your name:')\n",
    " name_len = len(name)\n",
    " if name_len > 5:\n",
    "     print('Your name contains',name_len,'characters')\n",
    " else:\n",
    "     print('I\\'m not telling you the length of your name')"
   ]
  },
  {
   "cell_type": "code",
   "execution_count": 19,
   "metadata": {},
   "outputs": [
    {
     "name": "stdout",
     "output_type": "stream",
     "text": [
      "0\n",
      "1\n",
      "2\n",
      "3\n",
      "4\n",
      "5\n",
      "6\n",
      "7\n",
      "8\n",
      "9\n"
     ]
    }
   ],
   "source": [
    "  # Loops\n",
    " \n",
    "for i in range(10):\n",
    "    print(i) "
   ]
  },
  {
   "cell_type": "code",
   "execution_count": 20,
   "metadata": {},
   "outputs": [
    {
     "name": "stdout",
     "output_type": "stream",
     "text": [
      "0 1 2 3 4 5 6 7 8 9 "
     ]
    }
   ],
   "source": [
    "for i in range(10):\n",
    "    print(i,end=' ')"
   ]
  },
  {
   "cell_type": "code",
   "execution_count": 21,
   "metadata": {},
   "outputs": [
    {
     "name": "stdout",
     "output_type": "stream",
     "text": [
      "1 2 3 4 5 6 7 8 9 "
     ]
    }
   ],
   "source": [
    "for i in range(1,10):\n",
    "    print(i,end=' ')    "
   ]
  },
  {
   "cell_type": "code",
   "execution_count": 22,
   "metadata": {},
   "outputs": [
    {
     "name": "stdout",
     "output_type": "stream",
     "text": [
      "0 5 10 15 20 25 30 35 40 45 50 55 60 65 70 75 80 85 90 95 100 "
     ]
    }
   ],
   "source": [
    "for i in range(0,101,5):\n",
    "    print(i,end=' ')"
   ]
  },
  {
   "cell_type": "code",
   "execution_count": 23,
   "metadata": {},
   "outputs": [
    {
     "name": "stdout",
     "output_type": "stream",
     "text": [
      "100 99 98 97 96 95 94 93 92 91 90 89 88 87 86 85 84 83 82 81 80 79 78 77 76 75 74 73 72 71 70 69 68 67 66 65 64 63 62 61 60 59 58 57 56 55 54 53 52 51 50 49 48 47 46 45 44 43 42 41 40 39 38 37 36 35 34 33 32 31 30 29 28 27 26 25 24 23 22 21 20 19 18 17 16 15 14 13 12 11 10 9 8 7 6 5 4 3 2 1 "
     ]
    }
   ],
   "source": [
    "for i in range(100,0,-1):\n",
    "    print(i,end=' ')   "
   ]
  },
  {
   "cell_type": "code",
   "execution_count": 24,
   "metadata": {},
   "outputs": [
    {
     "name": "stdout",
     "output_type": "stream",
     "text": [
      "[1, 2, 3, 4, 5]\n",
      "None\n",
      "None\n"
     ]
    }
   ],
   "source": [
    "    # Lists\n",
    "    \n",
    "data=[5,2,1,4,3]\n",
    "print(sorted(data)) # ordena las listas\n",
    "print(data.append(6)) # añade un valor al final\n",
    "print(data.remove(1)) #elimina un valor de la lsita"
   ]
  },
  {
   "cell_type": "code",
   "execution_count": 25,
   "metadata": {},
   "outputs": [
    {
     "name": "stdout",
     "output_type": "stream",
     "text": [
      "10\n",
      "9\n",
      "8\n",
      "7\n",
      "6\n",
      "5\n",
      "4\n",
      "3\n",
      "2\n",
      "1\n"
     ]
    }
   ],
   "source": [
    "  #while loops\n",
    "  \n",
    "n =10\n",
    "while n > 0:\n",
    "    print(n)\n",
    "    n = n-1\n",
    "    "
   ]
  },
  {
   "cell_type": "code",
   "execution_count": 27,
   "metadata": {},
   "outputs": [
    {
     "name": "stdout",
     "output_type": "stream",
     "text": [
      "Insert age:30\n",
      "insert the next age:37\n",
      "insert the next age:17\n",
      "[30, 37]\n"
     ]
    }
   ],
   "source": [
    "insert_age = int(input('Insert age:'))\n",
    "age=[]\n",
    "while insert_age >= 18:\n",
    "    age.append(insert_age)\n",
    "    insert_age = int(input('insert the next age:'))\n",
    "print(age) "
   ]
  },
  {
   "cell_type": "code",
   "execution_count": 28,
   "metadata": {},
   "outputs": [
    {
     "name": "stdout",
     "output_type": "stream",
     "text": [
      "please enter the name:Grevall\n",
      "Grevall has been added\n",
      "Next name:Jose\n",
      "Jose has been added\n",
      "Next name:nani\n",
      "nani has been added\n",
      "Next name:n\n",
      "there are 3 people in the class\n"
     ]
    }
   ],
   "source": [
    "count = 0\n",
    "class_names = []\n",
    "name = input('please enter the name:')\n",
    "while name != 'n':\n",
    "    count +=1\n",
    "    class_names.append(name)\n",
    "    print(f'{name} has been added')\n",
    "    name = input ('Next name:')\n",
    "print(f'there are {count} people in the class')  "
   ]
  },
  {
   "cell_type": "code",
   "execution_count": 29,
   "metadata": {},
   "outputs": [
    {
     "name": "stdout",
     "output_type": "stream",
     "text": [
      "3.141592653589793\n",
      "3\n"
     ]
    }
   ],
   "source": [
    "  #  Moldules\n",
    "  \n",
    "  import math\n",
    "print(math.pi) \n",
    "  import random\n",
    "print(random.randint(1,10))   "
   ]
  },
  {
   "cell_type": "code",
   "execution_count": 30,
   "metadata": {},
   "outputs": [
    {
     "data": {
      "text/plain": [
       "{'Sucre': 'Cumana',\n",
       " 'Monagas': 'Maturin',\n",
       " 'Bolivar': 'Ciudad Bolivar',\n",
       " 'Nueva Esparta': 'La Asuncion'}"
      ]
     },
     "execution_count": 30,
     "metadata": {},
     "output_type": "execute_result"
    }
   ],
   "source": [
    " #Dictionaries\n",
    "  \n",
    " capitals = {'Sucre':'Cumana','Monagas':'Maturin','Bolivar':'Ciudad Bolivar','Nueva Esparta':'La Asuncion'} \n",
    "capitals"
   ]
  },
  {
   "cell_type": "code",
   "execution_count": 31,
   "metadata": {},
   "outputs": [
    {
     "name": "stdout",
     "output_type": "stream",
     "text": [
      "\n",
      "'Cada vez que pienso en ti,'\n",
      "'mis ojos rompen en llanto;'\n",
      "'y muy triste me pregunto,'\n",
      "'¿por qué te quiero tanto?'\n",
      "\n"
     ]
    }
   ],
   "source": [
    "verso = '''\n",
    "'Cada vez que pienso en ti,'\n",
    "'mis ojos rompen en llanto;'\n",
    "'y muy triste me pregunto,'\n",
    "'¿por qué te quiero tanto?'\n",
    "'''\n",
    "print(verso)"
   ]
  },
  {
   "cell_type": "code",
   "execution_count": 32,
   "metadata": {},
   "outputs": [
    {
     "name": "stdout",
     "output_type": "stream",
     "text": [
      "{'\\n': 5, \"'\": 8, 'c': 1, 'a': 4, 'd': 1, ' ': 17, 'v': 1, 'e': 11, 'z': 1, 'q': 3, 'u': 5, 'p': 4, 'i': 5, 'n': 7, 's': 4, 'o': 9, 't': 8, ',': 2, 'm': 4, 'j': 1, 'r': 5, 'l': 2, ';': 1, 'y': 2, 'g': 1, '¿': 1, 'é': 1, '?': 1}\n"
     ]
    }
   ],
   "source": [
    "conteo_letras = {}\n",
    "for letter in verso:\n",
    "    conteo_letras[letter.lower()] = conteo_letras.get(letter,0) + 1\n",
    " \n",
    "print(conteo_letras)"
   ]
  },
  {
   "cell_type": "code",
   "execution_count": 33,
   "metadata": {},
   "outputs": [
    {
     "data": {
      "image/png": "[encoded data removed]",
      "text/plain": [
       "<Figure size 432x288 with 1 Axes>"
      ]
     },
     "metadata": {
      "needs_background": "light"
     },
     "output_type": "display_data"
    }
   ],
   "source": [
    "#get graphic\n",
    "conteo_letras.items()\n",
    "x,y = zip(*conteo_letras.items())\n",
    "plt.bar(x,y)\n",
    "plt.show()"
   ]
  },
  {
   "cell_type": "code",
   "execution_count": 34,
   "metadata": {},
   "outputs": [
    {
     "name": "stdout",
     "output_type": "stream",
     "text": [
      "[('Venezuela', 'Caracas'), ('Ecuador', 'Quito'), ('Peru', 'Lima'), ('Chile', 'Stgo Chile')]\n"
     ]
    }
   ],
   "source": [
    "# zip funtion\n",
    "\n",
    "Country = ['Venezuela','Ecuador','Peru','Chile']\n",
    "City = ['Caracas','Quito','Lima','Stgo Chile']\n",
    "Join = list(zip(Country,City))\n",
    "print(Join)"
   ]
  },
  {
   "cell_type": "code",
   "execution_count": 35,
   "metadata": {},
   "outputs": [
    {
     "name": "stdout",
     "output_type": "stream",
     "text": [
      "('Venezuela', 'Ecuador', 'Peru', 'Chile')\n",
      "('Caracas', 'Quito', 'Lima', 'Stgo Chile')\n"
     ]
    }
   ],
   "source": [
    "i,j = zip(*Join)\n",
    "print(i)\n",
    "print(j)"
   ]
  },
  {
   "cell_type": "code",
   "execution_count": 36,
   "metadata": {},
   "outputs": [
    {
     "name": "stdout",
     "output_type": "stream",
     "text": [
      "[\"\\n'Cada\", 'vez', 'que', 'pienso', 'en', \"ti,'\\n'mis\", 'ojos', 'rompen', 'en', \"llanto;'\\n'y\", 'muy', 'triste', 'me', \"pregunto,'\\n'¿por\", 'qué', 'te', 'quiero', \"tanto?'\\n\"]\n",
      "Counter({' ': 17, 'e': 11, 'o': 9, \"'\": 8, 't': 8, 'n': 7, '\\n': 5, 'u': 5, 'i': 5, 'r': 5, 'a': 4, 'p': 4, 's': 4, 'm': 4, 'q': 3, ',': 2, 'l': 2, 'y': 2, 'c': 1, 'd': 1, 'v': 1, 'z': 1, 'j': 1, ';': 1, 'g': 1, '¿': 1, 'é': 1, '?': 1})\n",
      "{'\\n': 5, \"'\": 8, 'c': 1, 'a': 4, 'd': 1, ' ': 17, 'v': 1, 'e': 11, 'z': 1, 'q': 3, 'u': 5, 'p': 4, 'i': 5, 'n': 7, 's': 4, 'o': 9, 't': 8, ',': 2, 'm': 4, 'j': 1, 'r': 5, 'l': 2, ';': 1, 'y': 2, 'g': 1, '¿': 1, 'é': 1, '?': 1}\n"
     ]
    }
   ],
   "source": [
    "# string Mehods\n",
    "\n",
    "new_words = verso.split(' ')\n",
    "print(new_words)\n",
    "\n",
    "from collections import Counter\n",
    "print(Counter(verso.lower()))\n",
    "\n",
    "new_dict = dict(Counter(verso.lower()))\n",
    "print(new_dict) \n"
   ]
  },
  {
   "cell_type": "code",
   "execution_count": 37,
   "metadata": {},
   "outputs": [
    {
     "name": "stdout",
     "output_type": "stream",
     "text": [
      "<_io.TextIOWrapper name='kipling.txt' mode='w' encoding='cp1252'>\n",
      "<_io.TextIOWrapper name='kipling.txt' mode='w' encoding='cp1252'>\n"
     ]
    }
   ],
   "source": [
    "#read files\n",
    "\n",
    "df = open('kipling.txt','w')\n",
    "print(df)\n",
    "df.write('componte niña componte que ahi viene el carnicero')\n",
    "print(df)"
   ]
  },
  {
   "cell_type": "code",
   "execution_count": null,
   "metadata": {},
   "outputs": [],
   "source": []
  }
 ],
 "metadata": {
  "kernelspec": {
   "display_name": "Python 3 (ipykernel)",
   "language": "python",
   "name": "python3"
  },
  "language_info": {
   "codemirror_mode": {
    "name": "ipython",
    "version": 3
   },
   "file_extension": ".py",
   "mimetype": "text/x-python",
   "name": "python",
   "nbconvert_exporter": "python",
   "pygments_lexer": "ipython3",
   "version": "3.9.7"
  }
 },
 "nbformat": 4,
 "nbformat_minor": 2
}
